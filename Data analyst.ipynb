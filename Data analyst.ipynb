{
 "cells": [
  {
   "cell_type": "code",
   "execution_count": 4,
   "id": "9cbed1a0",
   "metadata": {},
   "outputs": [],
   "source": [
    "import pandas as pd\n",
    "import numpy as np\n",
    "import  matplotlib.pyplot as plt\n",
    "import seaborn as sns"
   ]
  },
  {
   "cell_type": "code",
   "execution_count": 5,
   "id": "71970615",
   "metadata": {},
   "outputs": [],
   "source": [
    "import holidays"
   ]
  },
  {
   "cell_type": "code",
   "execution_count": 6,
   "id": "9d1ea69d",
   "metadata": {},
   "outputs": [],
   "source": [
    "train_df = pd.read_csv(\"train.csv\")\n",
    "gas_df = pd.read_csv(\"gas_prices.csv\")\n",
    "electricity_df = pd.read_csv(\"electricity_prices.csv\")\n",
    "client_df = pd.read_csv(\"client.csv\")\n",
    "fw_df = pd.read_csv(\"forecast_weather.csv\")\n",
    "hw_df = pd.read_csv(\"historical_weather.csv\")\n",
    "location = pd.read_csv(\"county_lon_lats.csv\")\n",
    "location = location.drop(columns = [\"Unnamed: 0\"])"
   ]
  },
  {
   "cell_type": "code",
   "execution_count": null,
   "id": "e92d6467",
   "metadata": {},
   "outputs": [],
   "source": [
    "monthly = hw_df.groupby(pd.Grouper(key=\"datetime\", freq='M')).mean() \n",
    "weekly = hw_df.groupby(pd.Grouper(key=\"datetime\", freq='W')).mean() \n",
    "daily = hw_df.groupby(pd.Grouper(key=\"datetime\", freq='D')).mean() \n",
    "meanTemp = hw_df.temperature.mean()\n",
    "meanSolar = hw_df.direct_solar_radiation.mean()\n",
    "meanRain = hw_df.rain.mean()\n",
    "meanSnow = hw_df.snowfall.mean()\n",
    "meanWindspeed = hw_df.windspeed_10m.mean()\n",
    "meanSurfacePressure = hw_df.surface_pressure.mean()"
   ]
  },
  {
   "cell_type": "code",
   "execution_count": null,
   "id": "ecbce4c2",
   "metadata": {},
   "outputs": [],
   "source": [
    "# Plot\n",
    "plt.figure(figsize=(10, 6))\n",
    "sns.lineplot(data=daily, x=daily.index, y=\"temperature\", color='#C59279')\n",
    "plt.title('Daily Historical Temperature Analysis')\n",
    "plt.xlabel('Date')\n",
    "plt.ylabel('Temperature')\n",
    "plt.axhline(y=meanTemp, linestyle='--', color='red', label='Average Temperature')\n",
    "plt.legend()\n",
    "plt.grid(True)\n",
    "plt.show()"
   ]
  },
  {
   "cell_type": "code",
   "execution_count": null,
   "id": "9d42d07e",
   "metadata": {},
   "outputs": [],
   "source": [
    "plt.figure(figsize=(10, 6))\n",
    "sns.lineplot(data=daily[['direct_solar_radiation', 'shortwave_radiation']])\n",
    "plt.title('Daily Radiation Analysis')\n",
    "plt.xlabel('Date')\n",
    "plt.ylabel('Radiation Level')\n",
    "plt.axhline(y=meanSolar, linestyle='--', color='red', label='Average Solar Radiation')\n",
    "plt.legend()\n",
    "plt.grid(True)\n",
    "plt.show()"
   ]
  },
  {
   "cell_type": "code",
   "execution_count": null,
   "id": "ca03a8ec",
   "metadata": {},
   "outputs": [],
   "source": [
    "plt.figure(figsize=(10, 6))\n",
    "sns.lineplot(data=daily[['rain', 'snowfall']], palette=[\"#325288\", \"pink\"], linewidth=2.5)\n",
    "plt.title('Daily Rain/Snowfall Analysis')\n",
    "plt.xlabel('Date')\n",
    "plt.ylabel('Rain/Snow Level')\n",
    "plt.axhline(y=meanRain, linestyle='--', color='red', label='Average Rainfall')\n",
    "plt.axhline(y=meanSnow, linestyle='--', color='yellow', label='Average Snowfall')\n",
    "plt.legend()\n",
    "plt.grid(True)\n",
    "plt.show()"
   ]
  },
  {
   "cell_type": "code",
   "execution_count": null,
   "id": "6263538b",
   "metadata": {},
   "outputs": [],
   "source": [
    "plt.figure(figsize=(10, 6))\n",
    "sns.lineplot(data=daily['windspeed_10m'], color=\"#69C98D\", linewidth=2.5)\n",
    "plt.title('Daily Windspeed Analysis')\n",
    "plt.xlabel('Date')\n",
    "plt.ylabel('Windspeed (in m/s)')\n",
    "plt.axhline(y=meanWindspeed, linestyle='--', color='red', label='Average Windspeed')\n",
    "plt.legend()\n",
    "plt.grid(True)\n",
    "plt.show()"
   ]
  },
  {
   "cell_type": "code",
   "execution_count": null,
   "id": "451cbeb1",
   "metadata": {},
   "outputs": [],
   "source": [
    "plt.figure(figsize=(10, 6))\n",
    "sns.lineplot(data=daily['surface_pressure'], color=\"#D61640\", linewidth=2.5)\n",
    "plt.title('Daily Surface Pressure Analysis')\n",
    "plt.xlabel('Date')\n",
    "plt.ylabel('Pressure (in Hectopascals)')\n",
    "plt.ylim(900, 1100)  # Set y-axis range\n",
    "plt.axhline(y=meanSurfacePressure, linestyle='--', color='red', label='Average Surface Pressure')\n",
    "plt.legend()\n",
    "plt.grid(True)\n",
    "plt.show()"
   ]
  },
  {
   "cell_type": "code",
   "execution_count": 7,
   "id": "ea761d07",
   "metadata": {},
   "outputs": [],
   "source": [
    "train_df['datetime'] = pd.to_datetime(train_df['datetime'])\n",
    "\n",
    "def get_holiday_features(df, country_code='US'):\n",
    "    year_range = list(range(min(df['datetime'].dt.year), max(df['datetime'].dt.year) + 1))\n",
    "    country_holidays = holidays.CountryHoliday(country_code, years=year_range, observed=False)\n",
    "    holiday = pd.DataFrame(country_holidays.items())\n",
    "    holiday.columns = ['date', 'holiday']\n",
    "    holiday['date'] = pd.to_datetime(holiday['date'])\n",
    "    holiday = holiday.rename(columns={'date': 'datetime'})\n",
    "    holiday['datetime'] = pd.to_datetime(holiday['datetime'])\n",
    "    return holiday\n",
    "\n",
    "# Generate holiday features\n",
    "holiday_df = get_holiday_features(train_df)\n",
    "\n",
    "# Merge holiday feature with DataFrame\n",
    "train_df = pd.merge(train_df, holiday_df, on='datetime', how='left')\n",
    "\n",
    "train_df['holiday'] = train_df['holiday'].fillna(0)  # Fill NaN values with 0\n",
    "train_df.loc[train_df['holiday'] != 0, 'holiday'] = 1  # Change non-zero values to 1\n"
   ]
  },
  {
   "cell_type": "code",
   "execution_count": 8,
   "id": "79101a9f",
   "metadata": {},
   "outputs": [
    {
     "data": {
      "text/html": [
       "<div>\n",
       "<style scoped>\n",
       "    .dataframe tbody tr th:only-of-type {\n",
       "        vertical-align: middle;\n",
       "    }\n",
       "\n",
       "    .dataframe tbody tr th {\n",
       "        vertical-align: top;\n",
       "    }\n",
       "\n",
       "    .dataframe thead th {\n",
       "        text-align: right;\n",
       "    }\n",
       "</style>\n",
       "<table border=\"1\" class=\"dataframe\">\n",
       "  <thead>\n",
       "    <tr style=\"text-align: right;\">\n",
       "      <th></th>\n",
       "      <th>county</th>\n",
       "      <th>is_business</th>\n",
       "      <th>product_type</th>\n",
       "      <th>target</th>\n",
       "      <th>is_consumption</th>\n",
       "      <th>datetime</th>\n",
       "      <th>data_block_id</th>\n",
       "      <th>row_id</th>\n",
       "      <th>prediction_unit_id</th>\n",
       "      <th>holiday</th>\n",
       "    </tr>\n",
       "  </thead>\n",
       "  <tbody>\n",
       "    <tr>\n",
       "      <th>0</th>\n",
       "      <td>0</td>\n",
       "      <td>0</td>\n",
       "      <td>1</td>\n",
       "      <td>0.713</td>\n",
       "      <td>0</td>\n",
       "      <td>2021-09-01 00:00:00</td>\n",
       "      <td>0</td>\n",
       "      <td>0</td>\n",
       "      <td>0</td>\n",
       "      <td>0</td>\n",
       "    </tr>\n",
       "    <tr>\n",
       "      <th>1</th>\n",
       "      <td>0</td>\n",
       "      <td>0</td>\n",
       "      <td>1</td>\n",
       "      <td>96.590</td>\n",
       "      <td>1</td>\n",
       "      <td>2021-09-01 00:00:00</td>\n",
       "      <td>0</td>\n",
       "      <td>1</td>\n",
       "      <td>0</td>\n",
       "      <td>0</td>\n",
       "    </tr>\n",
       "    <tr>\n",
       "      <th>2</th>\n",
       "      <td>0</td>\n",
       "      <td>0</td>\n",
       "      <td>2</td>\n",
       "      <td>0.000</td>\n",
       "      <td>0</td>\n",
       "      <td>2021-09-01 00:00:00</td>\n",
       "      <td>0</td>\n",
       "      <td>2</td>\n",
       "      <td>1</td>\n",
       "      <td>0</td>\n",
       "    </tr>\n",
       "    <tr>\n",
       "      <th>3</th>\n",
       "      <td>0</td>\n",
       "      <td>0</td>\n",
       "      <td>2</td>\n",
       "      <td>17.314</td>\n",
       "      <td>1</td>\n",
       "      <td>2021-09-01 00:00:00</td>\n",
       "      <td>0</td>\n",
       "      <td>3</td>\n",
       "      <td>1</td>\n",
       "      <td>0</td>\n",
       "    </tr>\n",
       "    <tr>\n",
       "      <th>4</th>\n",
       "      <td>0</td>\n",
       "      <td>0</td>\n",
       "      <td>3</td>\n",
       "      <td>2.904</td>\n",
       "      <td>0</td>\n",
       "      <td>2021-09-01 00:00:00</td>\n",
       "      <td>0</td>\n",
       "      <td>4</td>\n",
       "      <td>2</td>\n",
       "      <td>0</td>\n",
       "    </tr>\n",
       "    <tr>\n",
       "      <th>...</th>\n",
       "      <td>...</td>\n",
       "      <td>...</td>\n",
       "      <td>...</td>\n",
       "      <td>...</td>\n",
       "      <td>...</td>\n",
       "      <td>...</td>\n",
       "      <td>...</td>\n",
       "      <td>...</td>\n",
       "      <td>...</td>\n",
       "      <td>...</td>\n",
       "    </tr>\n",
       "    <tr>\n",
       "      <th>2018347</th>\n",
       "      <td>15</td>\n",
       "      <td>1</td>\n",
       "      <td>0</td>\n",
       "      <td>197.233</td>\n",
       "      <td>1</td>\n",
       "      <td>2023-05-31 23:00:00</td>\n",
       "      <td>637</td>\n",
       "      <td>2018347</td>\n",
       "      <td>64</td>\n",
       "      <td>0</td>\n",
       "    </tr>\n",
       "    <tr>\n",
       "      <th>2018348</th>\n",
       "      <td>15</td>\n",
       "      <td>1</td>\n",
       "      <td>1</td>\n",
       "      <td>0.000</td>\n",
       "      <td>0</td>\n",
       "      <td>2023-05-31 23:00:00</td>\n",
       "      <td>637</td>\n",
       "      <td>2018348</td>\n",
       "      <td>59</td>\n",
       "      <td>0</td>\n",
       "    </tr>\n",
       "    <tr>\n",
       "      <th>2018349</th>\n",
       "      <td>15</td>\n",
       "      <td>1</td>\n",
       "      <td>1</td>\n",
       "      <td>28.404</td>\n",
       "      <td>1</td>\n",
       "      <td>2023-05-31 23:00:00</td>\n",
       "      <td>637</td>\n",
       "      <td>2018349</td>\n",
       "      <td>59</td>\n",
       "      <td>0</td>\n",
       "    </tr>\n",
       "    <tr>\n",
       "      <th>2018350</th>\n",
       "      <td>15</td>\n",
       "      <td>1</td>\n",
       "      <td>3</td>\n",
       "      <td>0.000</td>\n",
       "      <td>0</td>\n",
       "      <td>2023-05-31 23:00:00</td>\n",
       "      <td>637</td>\n",
       "      <td>2018350</td>\n",
       "      <td>60</td>\n",
       "      <td>0</td>\n",
       "    </tr>\n",
       "    <tr>\n",
       "      <th>2018351</th>\n",
       "      <td>15</td>\n",
       "      <td>1</td>\n",
       "      <td>3</td>\n",
       "      <td>196.240</td>\n",
       "      <td>1</td>\n",
       "      <td>2023-05-31 23:00:00</td>\n",
       "      <td>637</td>\n",
       "      <td>2018351</td>\n",
       "      <td>60</td>\n",
       "      <td>0</td>\n",
       "    </tr>\n",
       "  </tbody>\n",
       "</table>\n",
       "<p>2018352 rows × 10 columns</p>\n",
       "</div>"
      ],
      "text/plain": [
       "         county  is_business  product_type   target  is_consumption  \\\n",
       "0             0            0             1    0.713               0   \n",
       "1             0            0             1   96.590               1   \n",
       "2             0            0             2    0.000               0   \n",
       "3             0            0             2   17.314               1   \n",
       "4             0            0             3    2.904               0   \n",
       "...         ...          ...           ...      ...             ...   \n",
       "2018347      15            1             0  197.233               1   \n",
       "2018348      15            1             1    0.000               0   \n",
       "2018349      15            1             1   28.404               1   \n",
       "2018350      15            1             3    0.000               0   \n",
       "2018351      15            1             3  196.240               1   \n",
       "\n",
       "                   datetime  data_block_id   row_id  prediction_unit_id  \\\n",
       "0       2021-09-01 00:00:00              0        0                   0   \n",
       "1       2021-09-01 00:00:00              0        1                   0   \n",
       "2       2021-09-01 00:00:00              0        2                   1   \n",
       "3       2021-09-01 00:00:00              0        3                   1   \n",
       "4       2021-09-01 00:00:00              0        4                   2   \n",
       "...                     ...            ...      ...                 ...   \n",
       "2018347 2023-05-31 23:00:00            637  2018347                  64   \n",
       "2018348 2023-05-31 23:00:00            637  2018348                  59   \n",
       "2018349 2023-05-31 23:00:00            637  2018349                  59   \n",
       "2018350 2023-05-31 23:00:00            637  2018350                  60   \n",
       "2018351 2023-05-31 23:00:00            637  2018351                  60   \n",
       "\n",
       "        holiday  \n",
       "0             0  \n",
       "1             0  \n",
       "2             0  \n",
       "3             0  \n",
       "4             0  \n",
       "...         ...  \n",
       "2018347       0  \n",
       "2018348       0  \n",
       "2018349       0  \n",
       "2018350       0  \n",
       "2018351       0  \n",
       "\n",
       "[2018352 rows x 10 columns]"
      ]
     },
     "execution_count": 8,
     "metadata": {},
     "output_type": "execute_result"
    }
   ],
   "source": [
    "train_df"
   ]
  },
  {
   "cell_type": "code",
   "execution_count": 16,
   "id": "2d711924",
   "metadata": {},
   "outputs": [
    {
     "data": {
      "image/png": "[encoded data removed]",
      "text/plain": [
       "<Figure size 1000x600 with 1 Axes>"
      ]
     },
     "metadata": {},
     "output_type": "display_data"
    }
   ],
   "source": [
    "grouped_df = train_df[['holiday', 'is_consumption', 'target']].groupby(['holiday', 'is_consumption'], as_index=False) \\\n",
    ".mean().sort_values(by='target', ascending=False)\n",
    "# Plotting\n",
    "fig, ax = plt.subplots(figsize=(10, 6))\n",
    "grouped_df.plot(kind='bar', stacked=True, ax=ax)\n",
    "\n",
    "# Customizing plot\n",
    "plt.title('Targets vs. Consumption based on Holidays')\n",
    "plt.xlabel('Holiday')\n",
    "plt.ylabel('Count')\n",
    "plt.xticks(ticks=[0, 1], labels=['Non-Holiday', 'Holiday'], rotation=0)\n",
    "\n",
    "# Adding legend\n",
    "plt.legend(title='is_consumption', loc='upper right', labels=['Production', 'Consumption'])\n",
    "\n",
    "plt.show()"
   ]
  },
  {
   "cell_type": "code",
   "execution_count": 19,
   "id": "e58fca19",
   "metadata": {},
   "outputs": [
    {
     "data": {
      "image/png": "[encoded data removed]",
      "text/plain": [
       "<Figure size 1000x600 with 1 Axes>"
      ]
     },
     "metadata": {},
     "output_type": "display_data"
    }
   ],
   "source": [
    "# Plot\n",
    "plt.figure(figsize=(10, 6))\n",
    "sns.barplot(x='holiday', y='target', hue='is_consumption', data=grouped_df)\n",
    "plt.title('Mean Target Consumption/Production on Holidays')\n",
    "plt.xlabel('Holiday')\n",
    "plt.ylabel('Mean Target')\n",
    "plt.xticks([0, 1], ['Not Holiday', 'Holiday'])\n",
    "plt.legend(title='Consumption', loc='upper right')\n",
    "plt.show()"
   ]
  },
  {
   "cell_type": "code",
   "execution_count": 21,
   "id": "d6de3194",
   "metadata": {},
   "outputs": [
    {
     "data": {
      "text/plain": [
       "2630"
      ]
     },
     "execution_count": 21,
     "metadata": {},
     "output_type": "execute_result"
    }
   ],
   "source": [
    "train_df['holiday'].sum()"
   ]
  },
  {
   "cell_type": "code",
   "execution_count": 23,
   "id": "2dfcc180",
   "metadata": {},
   "outputs": [
    {
     "data": {
      "text/plain": [
       "15312"
      ]
     },
     "execution_count": 23,
     "metadata": {},
     "output_type": "execute_result"
    }
   ],
   "source": [
    "train_df['datetime'].nunique()"
   ]
  },
  {
   "cell_type": "code",
   "execution_count": 36,
   "id": "9802c9e4",
   "metadata": {},
   "outputs": [
    {
     "name": "stdout",
     "output_type": "stream",
     "text": [
      "0     2021-09-06\n",
      "1     2021-10-11\n",
      "2     2021-11-11\n",
      "3     2021-11-25\n",
      "4     2021-12-25\n",
      "5     2022-01-01\n",
      "6     2022-01-17\n",
      "7     2022-02-21\n",
      "8     2022-05-30\n",
      "9     2022-06-19\n",
      "10    2022-07-04\n",
      "11    2022-09-05\n",
      "12    2022-10-10\n",
      "13    2022-11-11\n",
      "14    2022-11-24\n",
      "15    2022-12-25\n",
      "16    2023-01-01\n",
      "17    2023-01-16\n",
      "18    2023-02-20\n",
      "19    2023-05-29\n",
      "dtype: object\n"
     ]
    }
   ],
   "source": [
    "abc = train_df[train_df['holiday'] == 1]['datetime'].unique()\n",
    "\n",
    "# Convert NumPy array to pandas Series\n",
    "abc_series = pd.Series(abc)\n",
    "\n",
    "# Extract date component\n",
    "abc_dates_only = abc_series.dt.date\n",
    "\n",
    "print(abc_dates_only)\n"
   ]
  },
  {
   "cell_type": "code",
   "execution_count": null,
   "id": "0a58154d",
   "metadata": {},
   "outputs": [],
   "source": []
  }
 ],
 "metadata": {
  "kernelspec": {
   "display_name": "Python 3",
   "language": "python",
   "name": "python3"
  },
  "language_info": {
   "codemirror_mode": {
    "name": "ipython",
    "version": 3
   },
   "file_extension": ".py",
   "mimetype": "text/x-python",
   "name": "python",
   "nbconvert_exporter": "python",
   "pygments_lexer": "ipython3",
   "version": "3.12.0 (v3.12.0:0fb18b02c8, Oct  2 2023, 09:45:56) [Clang 13.0.0 (clang-1300.0.29.30)]"
  },
  "vscode": {
   "interpreter": {
    "hash": "aee8b7b246df8f9039afb4144a1f6fd8d2ca17a180786b69acc140d282b71a49"
   }
  }
 },
 "nbformat": 4,
 "nbformat_minor": 5
}
